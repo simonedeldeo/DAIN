{
  "nbformat": 4,
  "nbformat_minor": 0,
  "metadata": {
    "colab": {
      "name": "06. DAIN.ipynb",
      "provenance": [],
      "collapsed_sections": []
    },
    "kernelspec": {
      "name": "python3",
      "display_name": "Python 3"
    },
    "accelerator": "GPU"
  },
  "cells": [
    {
      "cell_type": "code",
      "metadata": {
        "id": "kjJM-iUFTdAu",
        "colab_type": "code",
        "outputId": "e85f123a-84a0-4adc-f63b-a7b84ad48109",
        "colab": {
          "base_uri": "https://localhost:8080/",
          "height": 122
        }
      },
      "source": [
        "# mount drive, to use the uploaded dataset\n",
        "\n",
        "from google.colab import drive\n",
        "drive.mount('/content/drive')"
      ],
      "execution_count": 0,
      "outputs": [
        {
          "output_type": "stream",
          "text": [
            "Go to this URL in a browser: https://accounts.google.com/o/oauth2/auth?client_id=947318989803-6bn6qk8qdgf4n4g3pfee6491hc0brc4i.apps.googleusercontent.com&redirect_uri=urn%3aietf%3awg%3aoauth%3a2.0%3aoob&response_type=code&scope=email%20https%3a%2f%2fwww.googleapis.com%2fauth%2fdocs.test%20https%3a%2f%2fwww.googleapis.com%2fauth%2fdrive%20https%3a%2f%2fwww.googleapis.com%2fauth%2fdrive.photos.readonly%20https%3a%2f%2fwww.googleapis.com%2fauth%2fpeopleapi.readonly\n",
            "\n",
            "Enter your authorization code:\n",
            "··········\n",
            "Mounted at /content/drive\n"
          ],
          "name": "stdout"
        }
      ]
    },
    {
      "cell_type": "code",
      "metadata": {
        "id": "z7tnLF_5rG-K",
        "colab_type": "code",
        "outputId": "0d4d909c-0a6d-4221-bbb3-bf5fad87177f",
        "colab": {
          "base_uri": "https://localhost:8080/",
          "height": 224
        }
      },
      "source": [
        "# install dependencies\n",
        "\n",
        "# from scipy.misc import imread, imsave\n",
        "# ImportError: cannot import name 'imread'\n",
        "# => downgrade scipy\n",
        "!pip3 install scipy==1.1.0 \n",
        "\n",
        "#!pip3 install torch==1.0.0\n",
        "#!pip3 install torchvision==0.2.1"
      ],
      "execution_count": 0,
      "outputs": [
        {
          "output_type": "stream",
          "text": [
            "Collecting scipy==1.1.0\n",
            "\u001b[?25l  Downloading https://files.pythonhosted.org/packages/a8/0b/f163da98d3a01b3e0ef1cab8dd2123c34aee2bafbb1c5bffa354cc8a1730/scipy-1.1.0-cp36-cp36m-manylinux1_x86_64.whl (31.2MB)\n",
            "\u001b[K     |████████████████████████████████| 31.2MB 98kB/s \n",
            "\u001b[?25hRequirement already satisfied: numpy>=1.8.2 in /usr/local/lib/python3.6/dist-packages (from scipy==1.1.0) (1.17.5)\n",
            "\u001b[31mERROR: plotnine 0.6.0 has requirement scipy>=1.2.0, but you'll have scipy 1.1.0 which is incompatible.\u001b[0m\n",
            "\u001b[31mERROR: albumentations 0.1.12 has requirement imgaug<0.2.7,>=0.2.5, but you'll have imgaug 0.2.9 which is incompatible.\u001b[0m\n",
            "Installing collected packages: scipy\n",
            "  Found existing installation: scipy 1.4.1\n",
            "    Uninstalling scipy-1.4.1:\n",
            "      Successfully uninstalled scipy-1.4.1\n",
            "Successfully installed scipy-1.1.0\n"
          ],
          "name": "stdout"
        }
      ]
    },
    {
      "cell_type": "code",
      "metadata": {
        "id": "hnCWfI4JqudU",
        "colab_type": "code",
        "outputId": "fa176281-d787-483a-dc24-b72e2915f77e",
        "colab": {
          "base_uri": "https://localhost:8080/",
          "height": 153
        }
      },
      "source": [
        "# clone code\n",
        "\n",
        "!git clone https://github.com/simonedeldeo/DAIN.git\n",
        "%cd DAIN"
      ],
      "execution_count": 0,
      "outputs": [
        {
          "output_type": "stream",
          "text": [
            "Cloning into 'DAIN'...\n",
            "remote: Enumerating objects: 26, done.\u001b[K\n",
            "remote: Counting objects:   3% (1/26)\u001b[K\rremote: Counting objects:   7% (2/26)\u001b[K\rremote: Counting objects:  11% (3/26)\u001b[K\rremote: Counting objects:  15% (4/26)\u001b[K\rremote: Counting objects:  19% (5/26)\u001b[K\rremote: Counting objects:  23% (6/26)\u001b[K\rremote: Counting objects:  26% (7/26)\u001b[K\rremote: Counting objects:  30% (8/26)\u001b[K\rremote: Counting objects:  34% (9/26)\u001b[K\rremote: Counting objects:  38% (10/26)\u001b[K\rremote: Counting objects:  42% (11/26)\u001b[K\rremote: Counting objects:  46% (12/26)\u001b[K\rremote: Counting objects:  50% (13/26)\u001b[K\rremote: Counting objects:  53% (14/26)\u001b[K\rremote: Counting objects:  57% (15/26)\u001b[K\rremote: Counting objects:  61% (16/26)\u001b[K\rremote: Counting objects:  65% (17/26)\u001b[K\rremote: Counting objects:  69% (18/26)\u001b[K\rremote: Counting objects:  73% (19/26)\u001b[K\rremote: Counting objects:  76% (20/26)\u001b[K\rremote: Counting objects:  80% (21/26)\u001b[K\rremote: Counting objects:  84% (22/26)\u001b[K\rremote: Counting objects:  88% (23/26)\u001b[K\rremote: Counting objects:  92% (24/26)\u001b[K\rremote: Counting objects:  96% (25/26)\u001b[K\rremote: Counting objects: 100% (26/26)\u001b[K\rremote: Counting objects: 100% (26/26), done.\u001b[K\n",
            "remote: Compressing objects:   4% (1/23)\u001b[K\rremote: Compressing objects:   8% (2/23)\u001b[K\rremote: Compressing objects:  13% (3/23)\u001b[K\rremote: Compressing objects:  17% (4/23)\u001b[K\rremote: Compressing objects:  21% (5/23)\u001b[K\rremote: Compressing objects:  26% (6/23)\u001b[K\rremote: Compressing objects:  30% (7/23)\u001b[K\rremote: Compressing objects:  34% (8/23)\u001b[K\rremote: Compressing objects:  39% (9/23)\u001b[K\rremote: Compressing objects:  43% (10/23)\u001b[K\rremote: Compressing objects:  47% (11/23)\u001b[K\rremote: Compressing objects:  52% (12/23)\u001b[K\rremote: Compressing objects:  56% (13/23)\u001b[K\rremote: Compressing objects:  60% (14/23)\u001b[K\rremote: Compressing objects:  65% (15/23)\u001b[K\rremote: Compressing objects:  69% (16/23)\u001b[K\rremote: Compressing objects:  73% (17/23)\u001b[K\rremote: Compressing objects:  78% (18/23)\u001b[K\rremote: Compressing objects:  82% (19/23)\u001b[K\rremote: Compressing objects:  86% (20/23)\u001b[K\rremote: Compressing objects:  91% (21/23)\u001b[K\rremote: Compressing objects:  95% (22/23)\u001b[K\rremote: Compressing objects: 100% (23/23)\u001b[K\rremote: Compressing objects: 100% (23/23), done.\u001b[K\n",
            "Receiving objects:   0% (1/613)   \rReceiving objects:   1% (7/613)   \rReceiving objects:   2% (13/613)   \rReceiving objects:   3% (19/613)   \rReceiving objects:   4% (25/613)   \rReceiving objects:   5% (31/613)   \rReceiving objects:   6% (37/613)   \rReceiving objects:   7% (43/613)   \rReceiving objects:   8% (50/613)   \rReceiving objects:   9% (56/613)   \rReceiving objects:  10% (62/613)   \rReceiving objects:  11% (68/613)   \rReceiving objects:  12% (74/613)   \rReceiving objects:  13% (80/613)   \rReceiving objects:  14% (86/613)   \rReceiving objects:  15% (92/613)   \rReceiving objects:  16% (99/613)   \rReceiving objects:  17% (105/613)   \rReceiving objects:  18% (111/613)   \rReceiving objects:  19% (117/613)   \rReceiving objects:  20% (123/613)   \rReceiving objects:  21% (129/613)   \rReceiving objects:  22% (135/613)   \rReceiving objects:  23% (141/613)   \rReceiving objects:  24% (148/613)   \rReceiving objects:  25% (154/613)   \rReceiving objects:  26% (160/613)   \rReceiving objects:  27% (166/613)   \rReceiving objects:  28% (172/613)   \rReceiving objects:  29% (178/613)   \rReceiving objects:  30% (184/613)   \rReceiving objects:  31% (191/613)   \rReceiving objects:  32% (197/613)   \rReceiving objects:  33% (203/613)   \rReceiving objects:  34% (209/613)   \rReceiving objects:  35% (215/613)   \rReceiving objects:  36% (221/613)   \rReceiving objects:  37% (227/613)   \rReceiving objects:  38% (233/613)   \rReceiving objects:  39% (240/613)   \rReceiving objects:  40% (246/613)   \rReceiving objects:  41% (252/613)   \rReceiving objects:  42% (258/613)   \rReceiving objects:  43% (264/613)   \rReceiving objects:  44% (270/613)   \rReceiving objects:  45% (276/613)   \rReceiving objects:  46% (282/613)   \rReceiving objects:  47% (289/613)   \rReceiving objects:  48% (295/613)   \rReceiving objects:  49% (301/613)   \rReceiving objects:  50% (307/613)   \rReceiving objects:  51% (313/613)   \rReceiving objects:  52% (319/613)   \rReceiving objects:  53% (325/613)   \rReceiving objects:  54% (332/613)   \rReceiving objects:  55% (338/613)   \rReceiving objects:  56% (344/613)   \rReceiving objects:  57% (350/613)   \rReceiving objects:  58% (356/613)   \rReceiving objects:  59% (362/613)   \rReceiving objects:  60% (368/613)   \rReceiving objects:  61% (374/613)   \rReceiving objects:  62% (381/613)   \rReceiving objects:  63% (387/613)   \rReceiving objects:  64% (393/613)   \rReceiving objects:  65% (399/613)   \rReceiving objects:  66% (405/613)   \rReceiving objects:  67% (411/613)   \rReceiving objects:  68% (417/613)   \rReceiving objects:  69% (423/613)   \rReceiving objects:  70% (430/613)   \rReceiving objects:  71% (436/613)   \rReceiving objects:  72% (442/613)   \rReceiving objects:  73% (448/613)   \rReceiving objects:  74% (454/613)   \rReceiving objects:  75% (460/613)   \rReceiving objects:  76% (466/613)   \rReceiving objects:  77% (473/613)   \rReceiving objects:  78% (479/613)   \rReceiving objects:  79% (485/613)   \rReceiving objects:  80% (491/613)   \rReceiving objects:  81% (497/613)   \rReceiving objects:  82% (503/613)   \rReceiving objects:  83% (509/613)   \rReceiving objects:  84% (515/613)   \rReceiving objects:  85% (522/613)   \rReceiving objects:  86% (528/613)   \rremote: Total 613 (delta 8), reused 6 (delta 3), pack-reused 587\u001b[K\n",
            "Receiving objects:  87% (534/613)   \rReceiving objects:  88% (540/613)   \rReceiving objects:  89% (546/613)   \rReceiving objects:  90% (552/613)   \rReceiving objects:  91% (558/613)   \rReceiving objects:  92% (564/613)   \rReceiving objects:  93% (571/613)   \rReceiving objects:  94% (577/613)   \rReceiving objects:  95% (583/613)   \rReceiving objects:  96% (589/613)   \rReceiving objects:  97% (595/613)   \rReceiving objects:  98% (601/613)   \rReceiving objects:  99% (607/613)   \rReceiving objects: 100% (613/613)   \rReceiving objects: 100% (613/613), 188.56 KiB | 754.00 KiB/s, done.\n",
            "Resolving deltas:   0% (0/336)   \rResolving deltas:   2% (7/336)   \rResolving deltas:   3% (13/336)   \rResolving deltas:   6% (22/336)   \rResolving deltas:   7% (24/336)   \rResolving deltas:  10% (34/336)   \rResolving deltas:  12% (43/336)   \rResolving deltas:  14% (50/336)   \rResolving deltas:  15% (53/336)   \rResolving deltas:  20% (70/336)   \rResolving deltas:  26% (89/336)   \rResolving deltas:  28% (95/336)   \rResolving deltas:  29% (98/336)   \rResolving deltas:  30% (101/336)   \rResolving deltas:  36% (121/336)   \rResolving deltas:  37% (125/336)   \rResolving deltas:  38% (128/336)   \rResolving deltas:  40% (135/336)   \rResolving deltas:  41% (138/336)   \rResolving deltas:  42% (142/336)   \rResolving deltas:  52% (178/336)   \rResolving deltas:  53% (180/336)   \rResolving deltas:  61% (207/336)   \rResolving deltas:  65% (221/336)   \rResolving deltas:  77% (262/336)   \rResolving deltas:  82% (278/336)   \rResolving deltas:  84% (283/336)   \rResolving deltas:  87% (293/336)   \rResolving deltas: 100% (336/336)   \rResolving deltas: 100% (336/336), done.\n",
            "/content/DAIN\n"
          ],
          "name": "stdout"
        }
      ]
    },
    {
      "cell_type": "code",
      "metadata": {
        "id": "gfBU86sMq0Dw",
        "colab_type": "code",
        "colab": {}
      },
      "source": [
        "# build code\n",
        "\n",
        "%%capture\n",
        "%cd my_package \n",
        "!./build.sh\n",
        "%cd ..\n",
        "%cd PWCNet/correlation_package_pytorch1_0\n",
        "!./build.sh\n",
        "%cd ..\n",
        "%cd .."
      ],
      "execution_count": 0,
      "outputs": []
    },
    {
      "cell_type": "code",
      "metadata": {
        "id": "xsLZhJd_SuDZ",
        "colab_type": "code",
        "colab": {}
      },
      "source": [
        "# get dataset1\n",
        "\n",
        "%%capture\n",
        "!rm -rf val\n",
        "!cp '/content/drive/My Drive/__progetto int sys/data/val - Star360.zip' './'\n",
        "!mkdir val\n",
        "!unzip 'val - Star360.zip' -d val"
      ],
      "execution_count": 0,
      "outputs": []
    },
    {
      "cell_type": "code",
      "metadata": {
        "id": "Hux_CAsCkO-B",
        "colab_type": "code",
        "colab": {}
      },
      "source": [
        "# get dataset2\n",
        "\n",
        "%%capture\n",
        "!rm -rf AniDSval_360\n",
        "!cp '/content/drive/My Drive/__progetto int sys/data/AniDSval_360.zip' './'\n",
        "!unzip 'AniDSval_360.zip'"
      ],
      "execution_count": 0,
      "outputs": []
    },
    {
      "cell_type": "code",
      "metadata": {
        "id": "ON9hCf9LS2aB",
        "colab_type": "code",
        "colab": {}
      },
      "source": [
        "# preprocess dataset\n",
        "\n",
        "!rm -rf MiddleBurySet\n",
        "!mkdir MiddleBurySet\n",
        "!mkdir MiddleBurySet/other-data\n",
        "!mkdir MiddleBurySet/other-gt-interp\n",
        "!mkdir MiddleBurySet/other-result-author\n",
        "\n",
        "import os\n",
        "\n",
        "# AniDSval_360\n",
        "basepath = '/content/DAIN/val'\n",
        "data_path = 'MiddleBurySet/other-data/'\n",
        "gt_path = 'MiddleBurySet/other-gt-interp/'\n",
        "sub_f = os.listdir(basepath)\n",
        "sub_f.sort()\n",
        "for s in sub_f:\n",
        "  path = os.path.join(basepath, s)\n",
        "  os.makedirs(os.path.join(data_path, s))\n",
        "  os.makedirs(os.path.join(gt_path, s))\n",
        "  os.rename(os.path.join(path, '0.jpg'), os.path.join(os.path.join(data_path, s), 'frame0.jpg'))\n",
        "  os.rename(os.path.join(path, '1.jpg'), os.path.join(os.path.join(gt_path, s), 'frame1.jpg'))\n",
        "  os.rename(os.path.join(path, '2.jpg'), os.path.join(os.path.join(data_path, s), 'frame2.jpg'))"
      ],
      "execution_count": 0,
      "outputs": []
    },
    {
      "cell_type": "code",
      "metadata": {
        "id": "tFFiTo4Zq7Ur",
        "colab_type": "code",
        "outputId": "40bb9720-e5ed-4c04-a0df-fcf3fc0d03d3",
        "colab": {
          "base_uri": "https://localhost:8080/",
          "height": 51
        }
      },
      "source": [
        "# get pretrained model\n",
        "\n",
        "!rm -rf model_weights\n",
        "!mkdir model_weights\n",
        "%cd model_weights\n",
        "#!wget http://vllab1.ucmerced.edu/~wenbobao/DAIN/best.pth\n",
        "!cp '/content/drive/My Drive/__progetto int sys/ckps/DAIN/4k_720/64307-Sun-Feb-23-01:35/epoch1.pth' 'best.pth'\n",
        "%cd .."
      ],
      "execution_count": 0,
      "outputs": [
        {
          "output_type": "stream",
          "text": [
            "/content/DAIN/model_weights\n",
            "/content/DAIN\n"
          ],
          "name": "stdout"
        }
      ]
    },
    {
      "cell_type": "code",
      "metadata": {
        "id": "lc2LJ3bmq-f6",
        "colab_type": "code",
        "outputId": "5dabae72-f9bb-42a4-92fb-e74337b1faa2",
        "colab": {
          "base_uri": "https://localhost:8080/",
          "height": 1000
        }
      },
      "source": [
        "# generate interpolated images\n",
        "\n",
        "!CUDA_VISIBLE_DEVICES=0 python -W ignore demo_MiddleBury.py"
      ],
      "execution_count": 0,
      "outputs": [
        {
          "output_type": "stream",
          "text": [
            "revise the unique id to a random numer 23979\n",
            "Namespace(SAVED_MODEL=None, alpha=[0.0, 1.0], arg='./model_weights/23979-Sun-Feb-23-11:16/args.txt', batch_size=1, channels=3, ctx_lr_coe=1.0, datasetName='Vimeo_90K_interp', datasetPath='', dataset_split=97, debug=False, depth_lr_coe=0.001, dtype=<class 'torch.cuda.FloatTensor'>, epsilon=1e-06, factor=0.2, filter_lr_coe=1.0, filter_size=4, flow_lr_coe=0.01, force=False, log='./model_weights/23979-Sun-Feb-23-11:16/log.txt', lr=0.002, netName='DAIN', no_date=False, numEpoch=100, occ_lr_coe=1.0, patience=5, rectify_lr=0.001, save_path='./model_weights/23979-Sun-Feb-23-11:16', save_which=1, seed=1, time_step=0.5, uid=None, use_cuda=True, use_cudnn=1, weight_decay=0, workers=8)\n",
            "cudnn is used\n",
            "The testing model weight is: ./model_weights/best.pth\n",
            "The unique id for current testing is: 96008\n",
            "38\n",
            "*****************current image process time \t 12.411336421966553s ******************\n",
            "interpolation error / PSNR : 2.723 / 28.8614\n",
            "The average interpolation error / PSNR for all images are : 2.723\n",
            "32\n",
            "*****************current image process time \t 0.5656425952911377s ******************\n",
            "interpolation error / PSNR : 4.2411 / 25.4314\n",
            "The average interpolation error / PSNR for all images are : 3.4821\n",
            "03\n",
            "*****************current image process time \t 0.5541353225708008s ******************\n",
            "interpolation error / PSNR : 11.4339 / 17.845\n",
            "The average interpolation error / PSNR for all images are : 6.1327\n",
            "18\n",
            "*****************current image process time \t 0.5573153495788574s ******************\n",
            "interpolation error / PSNR : 7.1669 / 20.2625\n",
            "The average interpolation error / PSNR for all images are : 6.3912\n",
            "08\n",
            "*****************current image process time \t 0.5584392547607422s ******************\n",
            "interpolation error / PSNR : 8.2279 / 19.9262\n",
            "The average interpolation error / PSNR for all images are : 6.7585\n",
            "40\n",
            "*****************current image process time \t 0.5577337741851807s ******************\n",
            "interpolation error / PSNR : 3.547 / 26.3382\n",
            "The average interpolation error / PSNR for all images are : 6.2233\n",
            "47\n",
            "*****************current image process time \t 0.5676672458648682s ******************\n",
            "interpolation error / PSNR : 4.519 / 23.8014\n",
            "The average interpolation error / PSNR for all images are : 5.9798\n",
            "02\n",
            "*****************current image process time \t 0.5620694160461426s ******************\n",
            "interpolation error / PSNR : 3.9475 / 26.7065\n",
            "The average interpolation error / PSNR for all images are : 5.7258\n",
            "28\n",
            "*****************current image process time \t 0.5581400394439697s ******************\n",
            "interpolation error / PSNR : 4.2408 / 23.4214\n",
            "The average interpolation error / PSNR for all images are : 5.5608\n",
            "27\n",
            "*****************current image process time \t 0.556443452835083s ******************\n",
            "interpolation error / PSNR : 5.3452 / 23.4448\n",
            "The average interpolation error / PSNR for all images are : 5.5392\n",
            "25\n",
            "*****************current image process time \t 0.5590610504150391s ******************\n",
            "interpolation error / PSNR : 4.0863 / 26.2831\n",
            "The average interpolation error / PSNR for all images are : 5.4071\n",
            "14\n",
            "*****************current image process time \t 0.5556638240814209s ******************\n",
            "interpolation error / PSNR : 4.7053 / 22.8544\n",
            "The average interpolation error / PSNR for all images are : 5.3487\n",
            "42\n",
            "*****************current image process time \t 0.5617520809173584s ******************\n",
            "interpolation error / PSNR : 4.8323 / 24.0135\n",
            "The average interpolation error / PSNR for all images are : 5.3089\n",
            "36\n",
            "*****************current image process time \t 0.557445764541626s ******************\n",
            "interpolation error / PSNR : 6.7804 / 21.7449\n",
            "The average interpolation error / PSNR for all images are : 5.414\n",
            "17\n",
            "*****************current image process time \t 0.5538747310638428s ******************\n",
            "interpolation error / PSNR : 3.7934 / 24.3612\n",
            "The average interpolation error / PSNR for all images are : 5.306\n",
            "44\n",
            "*****************current image process time \t 0.5572891235351562s ******************\n",
            "interpolation error / PSNR : 2.7192 / 27.8312\n",
            "The average interpolation error / PSNR for all images are : 5.1443\n",
            "29\n",
            "*****************current image process time \t 0.5584316253662109s ******************\n",
            "interpolation error / PSNR : 5.7595 / 21.8078\n",
            "The average interpolation error / PSNR for all images are : 5.1805\n",
            "23\n",
            "*****************current image process time \t 0.5597233772277832s ******************\n",
            "interpolation error / PSNR : 5.1993 / 23.7527\n",
            "The average interpolation error / PSNR for all images are : 5.1816\n",
            "15\n",
            "*****************current image process time \t 0.5609145164489746s ******************\n",
            "interpolation error / PSNR : 6.283 / 21.2068\n",
            "The average interpolation error / PSNR for all images are : 5.2395\n",
            "33\n",
            "*****************current image process time \t 0.5589005947113037s ******************\n",
            "interpolation error / PSNR : 7.7116 / 19.6402\n",
            "The average interpolation error / PSNR for all images are : 5.3631\n",
            "45\n",
            "*****************current image process time \t 0.565396785736084s ******************\n",
            "interpolation error / PSNR : 5.6704 / 22.8011\n",
            "The average interpolation error / PSNR for all images are : 5.3778\n",
            "34\n",
            "*****************current image process time \t 0.5708329677581787s ******************\n",
            "interpolation error / PSNR : 5.0199 / 25.0639\n",
            "The average interpolation error / PSNR for all images are : 5.3615\n",
            "35\n",
            "*****************current image process time \t 0.561495304107666s ******************\n",
            "interpolation error / PSNR : 21.8745 / 15.8383\n",
            "The average interpolation error / PSNR for all images are : 6.0795\n",
            "49\n",
            "*****************current image process time \t 0.5641777515411377s ******************\n",
            "interpolation error / PSNR : 2.431 / 30.2556\n",
            "The average interpolation error / PSNR for all images are : 5.9274\n",
            "04\n",
            "*****************current image process time \t 0.5631680488586426s ******************\n",
            "interpolation error / PSNR : 4.9689 / 23.3843\n",
            "The average interpolation error / PSNR for all images are : 5.8891\n",
            "05\n",
            "*****************current image process time \t 0.5639379024505615s ******************\n",
            "interpolation error / PSNR : 10.2012 / 18.8286\n",
            "The average interpolation error / PSNR for all images are : 6.0549\n",
            "12\n",
            "*****************current image process time \t 0.5564830303192139s ******************\n",
            "interpolation error / PSNR : 12.1364 / 20.9011\n",
            "The average interpolation error / PSNR for all images are : 6.2802\n",
            "01\n",
            "*****************current image process time \t 0.5712599754333496s ******************\n",
            "interpolation error / PSNR : 2.0692 / 31.2109\n",
            "The average interpolation error / PSNR for all images are : 6.1298\n",
            "48\n",
            "*****************current image process time \t 0.5705068111419678s ******************\n",
            "interpolation error / PSNR : 6.5898 / 20.787\n",
            "The average interpolation error / PSNR for all images are : 6.1457\n",
            "11\n",
            "*****************current image process time \t 0.5661733150482178s ******************\n",
            "interpolation error / PSNR : 3.1162 / 28.7274\n",
            "The average interpolation error / PSNR for all images are : 6.0447\n",
            "10\n",
            "*****************current image process time \t 0.5709347724914551s ******************\n",
            "interpolation error / PSNR : 2.3902 / 28.2107\n",
            "The average interpolation error / PSNR for all images are : 5.9268\n",
            "26\n",
            "*****************current image process time \t 0.5707137584686279s ******************\n",
            "interpolation error / PSNR : 4.5421 / 24.321\n",
            "The average interpolation error / PSNR for all images are : 5.8835\n",
            "43\n",
            "*****************current image process time \t 0.5861170291900635s ******************\n",
            "interpolation error / PSNR : 3.7565 / 26.8273\n",
            "The average interpolation error / PSNR for all images are : 5.8191\n",
            "21\n",
            "*****************current image process time \t 0.5708677768707275s ******************\n",
            "interpolation error / PSNR : 3.6635 / 25.4472\n",
            "The average interpolation error / PSNR for all images are : 5.7557\n",
            "06\n",
            "*****************current image process time \t 0.571582555770874s ******************\n",
            "interpolation error / PSNR : 10.4298 / 19.5309\n",
            "The average interpolation error / PSNR for all images are : 5.8892\n",
            "37\n",
            "*****************current image process time \t 0.5695366859436035s ******************\n",
            "interpolation error / PSNR : 3.9462 / 25.5502\n",
            "The average interpolation error / PSNR for all images are : 5.8352\n",
            "41\n",
            "*****************current image process time \t 0.5664846897125244s ******************\n",
            "interpolation error / PSNR : 4.7991 / 23.8081\n",
            "The average interpolation error / PSNR for all images are : 5.8072\n",
            "20\n",
            "*****************current image process time \t 0.5680663585662842s ******************\n",
            "interpolation error / PSNR : 1.9555 / 30.8851\n",
            "The average interpolation error / PSNR for all images are : 5.7059\n",
            "16\n",
            "*****************current image process time \t 0.5760881900787354s ******************\n",
            "interpolation error / PSNR : 7.9757 / 20.5239\n",
            "The average interpolation error / PSNR for all images are : 5.7641\n",
            "13\n",
            "*****************current image process time \t 0.5739684104919434s ******************\n",
            "interpolation error / PSNR : 3.5159 / 26.8579\n",
            "The average interpolation error / PSNR for all images are : 5.7079\n",
            "30\n",
            "*****************current image process time \t 0.5694777965545654s ******************\n",
            "interpolation error / PSNR : 10.9411 / 18.37\n",
            "The average interpolation error / PSNR for all images are : 5.8355\n",
            "07\n",
            "*****************current image process time \t 0.5700318813323975s ******************\n",
            "interpolation error / PSNR : 4.417 / 25.3708\n",
            "The average interpolation error / PSNR for all images are : 5.8017\n",
            "22\n",
            "*****************current image process time \t 0.5684599876403809s ******************\n",
            "interpolation error / PSNR : 4.4808 / 26.1586\n",
            "The average interpolation error / PSNR for all images are : 5.771\n",
            "19\n",
            "*****************current image process time \t 0.5740678310394287s ******************\n",
            "interpolation error / PSNR : 2.198 / 27.5504\n",
            "The average interpolation error / PSNR for all images are : 5.6898\n",
            "09\n",
            "*****************current image process time \t 0.5638389587402344s ******************\n",
            "interpolation error / PSNR : 5.6883 / 21.8543\n",
            "The average interpolation error / PSNR for all images are : 5.6898\n",
            "00\n",
            "*****************current image process time \t 0.5695645809173584s ******************\n",
            "interpolation error / PSNR : 3.9491 / 25.2407\n",
            "The average interpolation error / PSNR for all images are : 5.6519\n",
            "24\n",
            "*****************current image process time \t 0.5715749263763428s ******************\n",
            "interpolation error / PSNR : 6.2627 / 22.3958\n",
            "The average interpolation error / PSNR for all images are : 5.6649\n",
            "39\n",
            "*****************current image process time \t 0.5667753219604492s ******************\n",
            "interpolation error / PSNR : 3.5657 / 26.6087\n",
            "The average interpolation error / PSNR for all images are : 5.6212\n",
            "46\n",
            "*****************current image process time \t 0.5799961090087891s ******************\n",
            "interpolation error / PSNR : 6.1307 / 22.0933\n",
            "The average interpolation error / PSNR for all images are : 5.6316\n",
            "31\n",
            "*****************current image process time \t 0.5619103908538818s ******************\n",
            "interpolation error / PSNR : 4.5391 / 25.3979\n",
            "The average interpolation error / PSNR for all images are : 5.6097\n"
          ],
          "name": "stdout"
        }
      ]
    },
    {
      "cell_type": "code",
      "metadata": {
        "id": "0JBIR0EkqZy8",
        "colab_type": "code",
        "outputId": "d12b4a4d-557e-40dd-97f0-f9054bf7f624",
        "colab": {
          "base_uri": "https://localhost:8080/",
          "height": 139
        }
      },
      "source": [
        "# get stats\n",
        "\n",
        "import PIL\n",
        "import PIL.Image\n",
        "import skimage\n",
        "import skimage.measure\n",
        "import numpy\n",
        "import math\n",
        "\n",
        "gt = '/frame1.jpg'\n",
        "interp = '/frame1.png'\n",
        "\n",
        "basepath1 = './MiddleBurySet/other-gt-interp/'\n",
        "id = '96008'\n",
        "basepath2 = './MiddleBurySet/other-result-author/' + id + '/'\n",
        "sub_f = os.listdir(basepath1)\n",
        "sub_f.sort()\n",
        "dblPsnr = []\n",
        "dblSsim = []\n",
        "dblIE = []\n",
        "for s in sub_f:\n",
        "  path1 = os.path.join(basepath1, s)\n",
        "  path2 = os.path.join(basepath2, s)\n",
        "  dblPsnr.append(skimage.measure.compare_psnr(im_true=numpy.array(PIL.Image.open(path1 + gt))[:, :, ::-1], im_test=numpy.array(PIL.Image.open(path2 + interp))[:, :, ::-1], data_range=255))\n",
        "  dblSsim.append(skimage.measure.compare_ssim(X=numpy.array(PIL.Image.open(path1 + gt))[:, :, ::-1], Y=numpy.array(PIL.Image.open(path2 + interp))[:, :, ::-1], data_range=255, multichannel=True))\n",
        "  dblIE.append(math.sqrt(skimage.measure.compare_mse(numpy.array(PIL.Image.open(path1 + gt))[:, :, ::-1], numpy.array(PIL.Image.open(path2 + interp))[:, :, ::-1])))\n",
        "\n",
        "print('computed average psnr', numpy.mean(dblPsnr))\n",
        "print('computed average ssim', numpy.mean(dblSsim))\n",
        "print('computed average ie', numpy.mean(dblIE))"
      ],
      "execution_count": 0,
      "outputs": [
        {
          "output_type": "stream",
          "text": [
            "/usr/local/lib/python3.6/dist-packages/ipykernel_launcher.py:23: UserWarning: DEPRECATED: skimage.measure.compare_psnr has been moved to skimage.metrics.peak_signal_noise_ratio. It will be removed from skimage.measure in version 0.18.\n",
            "/usr/local/lib/python3.6/dist-packages/ipykernel_launcher.py:24: UserWarning: DEPRECATED: skimage.measure.compare_ssim has been moved to skimage.metrics.structural_similarity. It will be removed from skimage.measure in version 0.18.\n",
            "/usr/local/lib/python3.6/dist-packages/ipykernel_launcher.py:25: UserWarning: DEPRECATED: skimage.measure.compare_mse has been moved to skimage.metrics.mean_squared_error. It will be removed from skimage.measure in version 0.18.\n"
          ],
          "name": "stderr"
        },
        {
          "output_type": "stream",
          "text": [
            "computed average psnr 24.006718201485622\n",
            "computed average ssim 0.8767172284745116\n",
            "computed average ie 17.375263539795252\n"
          ],
          "name": "stdout"
        }
      ]
    }
  ]
}